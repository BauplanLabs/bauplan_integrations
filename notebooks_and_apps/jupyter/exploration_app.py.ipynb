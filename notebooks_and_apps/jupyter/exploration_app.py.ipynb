{
 "cells": [
  {
   "cell_type": "markdown",
   "id": "6b3cef65-db1f-44e7-ae70-536b36022093",
   "metadata": {},
   "source": [
    "# Imports and Bauplan client setup\n"
   ]
  },
  {
   "cell_type": "code",
   "execution_count": 1,
   "id": "initial_id",
   "metadata": {},
   "outputs": [],
   "source": [
    "import bauplan\n",
    "import pandas as pd\n",
    "import matplotlib.pyplot as plt\n",
    "from datetime import date\n",
    "from functools import lru_cache\n",
    "\n",
    "import ipywidgets as widgets\n",
    "from IPython.display import display, HTML\n",
    "\n",
    "# If using classic Notebook and want inline plotting:\n",
    "# %matplotlib inline\n",
    "\n",
    "# 1) Initialize Bauplan client\n",
    "#    The client will use your local profile or BAUPLAN_API_KEY for authentication.\n",
    "#    We'll also capture the username so we can scope a branch per user.\n",
    "client = bauplan.Client()\n",
    "username = client.info().user.username\n",
    "\n",
    "# 2) Define a user-scoped branch\n",
    "#    Notebooks should not query `main` directly. By running against a personal branch,\n",
    "#    you keep exploration isolated from production.\n",
    "exploration_branch = f\"{username}.exploration_app\""
   ]
  },
  {
   "cell_type": "markdown",
   "id": "10d52420-7829-47a3-a6b4-5914f6683443",
   "metadata": {},
   "source": [
    "# Date picker widgets and outputs"
   ]
  },
  {
   "cell_type": "code",
   "execution_count": 2,
   "id": "138b2a9cd8d0f8b6",
   "metadata": {
    "collapsed": false,
    "jupyter": {
     "outputs_hidden": false
    }
   },
   "outputs": [
    {
     "data": {
      "application/vnd.jupyter.widget-view+json": {
       "model_id": "91bf50419d8243a8940f2b157f4959c5",
       "version_major": 2,
       "version_minor": 0
      },
      "text/plain": [
       "VBox(children=(HBox(children=(DatePicker(value=datetime.date(2023, 1, 1), description='Start date', step=1), D…"
      ]
     },
     "metadata": {},
     "output_type": "display_data"
    }
   ],
   "source": [
    "# Default to the month of January 2023 for reproducibility.\n",
    "start_picker = widgets.DatePicker(description=\"Start date\", value=date(2023, 1, 1))\n",
    "end_picker   = widgets.DatePicker(description=\"End date\",   value=date(2023, 1, 31))\n",
    "run_button   = widgets.Button(description=\"Run query\", button_style=\"primary\")\n",
    "\n",
    "status_out = widgets.Output()\n",
    "table_out  = widgets.Output()\n",
    "plot_out   = widgets.Output()\n",
    "\n",
    "ui = widgets.VBox([\n",
    "    widgets.HBox([start_picker, end_picker, run_button]),\n",
    "    status_out,\n",
    "    table_out,\n",
    "    plot_out\n",
    "])\n",
    "display(ui)"
   ]
  },
  {
   "cell_type": "markdown",
   "id": "427b615bb1f959cb",
   "metadata": {
    "collapsed": false,
    "jupyter": {
     "outputs_hidden": false
    }
   },
   "source": [
    "# Query function (cached) and click handler"
   ]
  },
  {
   "cell_type": "code",
   "execution_count": 5,
   "id": "d747587c0ffe1b9a",
   "metadata": {
    "collapsed": false,
    "jupyter": {
     "outputs_hidden": false
    }
   },
   "outputs": [],
   "source": [
    "# We wrap the SQL query in an LRU cache so repeated date ranges reuse results\n",
    "# instead of re-running the query every interaction.\n",
    "@lru_cache(maxsize=256)\n",
    "def run_query_cached(start_iso: str, end_iso: str, ref: str) -> pd.DataFrame:\n",
    "    query = f\"\"\"\n",
    "        SELECT\n",
    "          DATE_TRUNC('day', pickup_datetime) AS dt,\n",
    "          COUNT(*) AS rides\n",
    "        FROM taxi_fhvhv\n",
    "        WHERE pickup_datetime BETWEEN '{start_iso}' AND '{end_iso}'\n",
    "        GROUP BY dt\n",
    "        ORDER BY dt ASC\n",
    "    \"\"\"\n",
    "    # Returns a Pandas DataFrame\n",
    "    return client.query(query, ref=ref).to_pandas()\n",
    "\n",
    "def on_run_clicked(_):\n",
    "    with status_out:\n",
    "        status_out.clear_output()\n",
    "        print(\"Running query…\")\n",
    "    table_out.clear_output()\n",
    "    plot_out.clear_output()\n",
    "\n",
    "    s = start_picker.value\n",
    "    e = end_picker.value\n",
    "\n",
    "    # Guard against invalid ranges\n",
    "    if s is None or e is None:\n",
    "        with status_out:\n",
    "            status_out.clear_output()\n",
    "            display(HTML('<p style=\"color:#b35b00;\">Please select both start and end dates.</p>'))\n",
    "        return\n",
    "    if s > e:\n",
    "        with status_out:\n",
    "            status_out.clear_output()\n",
    "            display(HTML('<p style=\"color:#b35b00;\">Start date must be <= end date.</p>'))\n",
    "        return\n",
    "\n",
    "    # Execute the query against the sandbox table on our branch\n",
    "    df = run_query_cached(s.isoformat(), e.isoformat(), exploration_branch)\n",
    "\n",
    "    with status_out:\n",
    "        status_out.clear_output()\n",
    "        print(\"Rides per day\")\n",
    "\n",
    "    # Stop early if the query returned no rows\n",
    "    if df.empty:\n",
    "        with table_out:\n",
    "            display(HTML(\"<p>No rows for the selected date range.</p>\"))\n",
    "        return\n",
    "\n",
    "    # 5) Normalize data types\n",
    "    #    Ensure datetime and numeric types are consistent for plotting.\n",
    "    df = df.copy()\n",
    "    df[\"dt\"] = pd.to_datetime(df[\"dt\"], errors=\"coerce\")\n",
    "    df[\"rides\"] = pd.to_numeric(df[\"rides\"], errors=\"coerce\").fillna(0).astype(\"int64\")\n",
    "\n",
    "    # 6) Display the result table\n",
    "    with table_out:\n",
    "        display(df)\n",
    "\n",
    "    # 7) Create a bar chart with matplotlib\n",
    "    labels = df[\"dt\"].dt.strftime(\"%Y-%m-%d\")\n",
    "    values = df[\"rides\"].values\n",
    "\n",
    "    with plot_out:\n",
    "        plt.figure(figsize=(max(6, len(df) * 0.25), 4))\n",
    "        plt.bar(labels, values)\n",
    "        plt.xlabel(\"Date\")\n",
    "        plt.ylabel(\"Rides\")\n",
    "        plt.title(f\"Rides per day ({s} → {e})\")\n",
    "        plt.xticks(rotation=45)\n",
    "        plt.tight_layout()\n",
    "        plt.show()\n",
    "\n",
    "# 8) Wire up the button\n",
    "run_button.on_click(on_run_clicked)"
   ]
  },
  {
   "cell_type": "code",
   "execution_count": 6,
   "id": "c0ab2d7a-bbb9-4167-997a-c3aa07f5c46b",
   "metadata": {},
   "outputs": [],
   "source": []
  }
 ],
 "metadata": {
  "kernelspec": {
   "display_name": "Python 3 (ipykernel)",
   "language": "python",
   "name": "python3"
  },
  "language_info": {
   "codemirror_mode": {
    "name": "ipython",
    "version": 3
   },
   "file_extension": ".py",
   "mimetype": "text/x-python",
   "name": "python",
   "nbconvert_exporter": "python",
   "pygments_lexer": "ipython3",
   "version": "3.12.1"
  }
 },
 "nbformat": 4,
 "nbformat_minor": 5
}
